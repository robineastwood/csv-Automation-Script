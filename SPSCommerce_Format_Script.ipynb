{
 "cells": [
  {
   "cell_type": "markdown",
   "metadata": {},
   "source": [
    "This Python script handles a .csv file that I routinely download from SPS Commerce then reformat into a legible working spreadsheet used as a packing list for wholesale e-commerce orders. \n",
    "\n",
    "In order to automate this routine formatting process and simplify my life, I wrote a function to do the work for me. I can now call the function each time I have a new .csv file to format."
   ]
  },
  {
   "cell_type": "code",
   "execution_count": 13,
   "metadata": {},
   "outputs": [],
   "source": [
    "import pandas as pd"
   ]
  },
  {
   "cell_type": "code",
   "execution_count": 18,
   "metadata": {},
   "outputs": [],
   "source": [
    "def format_spreadsheet(path):\n",
    "    data = pd.read_csv(path)\n",
    "    data = data[['PO Number','Store #', 'Vendor Style', 'Qty per Store #']]\n",
    "    data = data.dropna()\n",
    "    data['Store #'] = data['Store #'].astype(int)\n",
    "    data['Qty per Store #'] = data['Qty per Store #'].astype(int)\n",
    "    data = data.sort_values(['Store #', 'Vendor Style'])\n",
    "    return data.to_csv(('formatted_' + path), index=False)"
   ]
  },
  {
   "cell_type": "code",
   "execution_count": 19,
   "metadata": {},
   "outputs": [],
   "source": [
    "format_spreadsheet(path='po0000026517_181096.csv')"
   ]
  },
  {
   "cell_type": "code",
   "execution_count": null,
   "metadata": {},
   "outputs": [],
   "source": []
  }
 ],
 "metadata": {
  "kernelspec": {
   "display_name": "Python 3",
   "language": "python",
   "name": "python3"
  },
  "language_info": {
   "codemirror_mode": {
    "name": "ipython",
    "version": 3
   },
   "file_extension": ".py",
   "mimetype": "text/x-python",
   "name": "python",
   "nbconvert_exporter": "python",
   "pygments_lexer": "ipython3",
   "version": "3.7.4"
  }
 },
 "nbformat": 4,
 "nbformat_minor": 2
}
